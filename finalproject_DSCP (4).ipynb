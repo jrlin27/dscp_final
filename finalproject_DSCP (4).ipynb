{
  "nbformat": 4,
  "nbformat_minor": 0,
  "metadata": {
    "colab": {
      "provenance": []
    },
    "kernelspec": {
      "name": "python3",
      "display_name": "Python 3"
    },
    "language_info": {
      "name": "python"
    }
  },
  "cells": [
    {
      "cell_type": "code",
      "execution_count": 5,
      "metadata": {
        "id": "UEbanE1feHnQ"
      },
      "outputs": [],
      "source": [
        "#import section\n",
        "import requests\n",
        "from bs4 import BeautifulSoup\n",
        "import pandas as pd\n",
        "import math\n",
        "from collections import Counter\n",
        "import csv"
      ]
    },
    {
      "cell_type": "code",
      "source": [
        "headers = {'User-Agent' : 'Mozilla/5.0 (Macintosh; Intel Mac OS X 20_0_1; en-US; X11; Linux x86_64) AppleWebKit/537.75.14 (KHTML, like Gecko) Version/18.0.0 Safari/1500'}"
      ],
      "metadata": {
        "id": "nqnDR73tgEm0"
      },
      "execution_count": 6,
      "outputs": []
    },
    {
      "cell_type": "code",
      "source": [
        "data_list = []"
      ],
      "metadata": {
        "id": "fva8vDNnBz5s"
      },
      "execution_count": 7,
      "outputs": []
    },
    {
      "cell_type": "code",
      "source": [
        "#link to pages \n",
        "for pages in range(1,71):\n",
        "  r = requests.get('https://www.lotto-8.com/listltobigbbk.asp?indexpage='+str(pages)+'&orderby=new', headers = headers)\n",
        "  r.encoding = 'UTF-8' \n",
        "  soup = BeautifulSoup(r.text,'html.parser')\n",
        "  lo_numbers = soup.select('[style*=\"border-bottom-style: dotted; border-bottom-color: #CCCCCC; font-size:36px\"]')\n",
        "\n",
        "  for td in lo_numbers:\n",
        "    numbers = td.text\n",
        "    data_list.append(numbers)\n",
        "\n",
        "df = pd.DataFrame(data_list, columns=['Numbers'])\n",
        "\n"
      ],
      "metadata": {
        "id": "ICzhgJuDiAdX"
      },
      "execution_count": 8,
      "outputs": []
    },
    {
      "cell_type": "code",
      "source": [
        "all_numbers = []\n",
        "\n",
        "for numbers in df['Numbers']:\n",
        "    for number in numbers.split(','):\n",
        "        all_numbers.append(number.strip())\n",
        "\n",
        "print(all_numbers)"
      ],
      "metadata": {
        "id": "JCSDKUz8eRT-"
      },
      "execution_count": null,
      "outputs": []
    },
    {
      "cell_type": "code",
      "source": [
        "print(len(all_numbers))\n",
        "print(type(all_numbers[0]))\n"
      ],
      "metadata": {
        "id": "EKKWZf3Rmp-y",
        "colab": {
          "base_uri": "https://localhost:8080/"
        },
        "outputId": "cd258184-37ca-41c8-f892-5e34c5ea74d6"
      },
      "execution_count": 10,
      "outputs": [
        {
          "output_type": "stream",
          "name": "stdout",
          "text": [
            "14686\n",
            "<class 'str'>\n"
          ]
        }
      ]
    },
    {
      "cell_type": "code",
      "source": [
        "for i in range(len(all_numbers)):\n",
        "  all_numbers[i] = int(all_numbers[i])\n",
        "\n",
        "print(type(all_numbers[0]))\n",
        "print(all_numbers)\n",
        "print(len(all_numbers))"
      ],
      "metadata": {
        "id": "wBawztg4pSaA"
      },
      "execution_count": null,
      "outputs": []
    },
    {
      "cell_type": "code",
      "source": [
        "#\n",
        "for i in range(1,50):\n",
        "  print(i, ':',all_numbers.count(i) , ',', round(all_numbers.count(i)/len(all_numbers)*100,2), '%')\n",
        "  "
      ],
      "metadata": {
        "id": "B1RdqQZAm9gw"
      },
      "execution_count": null,
      "outputs": []
    },
    {
      "cell_type": "code",
      "source": [
        "fields = ['lottery_number','count','percentage']\n",
        "rows = []\n",
        "\n",
        "for i in range(1,50):\n",
        "  count = all_numbers.count(i)\n",
        "  total = len(all_numbers)\n",
        "  percentage = round(count/total*100,2)\n",
        "  rows.append([i, count, percentage])\n",
        "  \n"
      ],
      "metadata": {
        "id": "UrV_A5nsn4oA"
      },
      "execution_count": 13,
      "outputs": []
    },
    {
      "cell_type": "code",
      "source": [
        "import matplotlib.pyplot as plt\n",
        "\n",
        "numbers = [row[0] for row in rows]\n",
        "percentages = [row[2] for row in rows]\n",
        "\n",
        "plt.figure(figsize=(15, 6))\n",
        "\n",
        "\n",
        "bars = plt.bar(numbers, percentages)\n",
        "\n",
        "plt.xticks(numbers)\n",
        "plt.ylabel(fields[2])\n",
        "\n",
        "plt.show\n",
        "\n"
      ],
      "metadata": {
        "colab": {
          "base_uri": "https://localhost:8080/",
          "height": 540
        },
        "id": "P8hFapXRfuB_",
        "outputId": "7a13c1f3-9aef-447a-f319-bcb83430fbb7"
      },
      "execution_count": 33,
      "outputs": [
        {
          "output_type": "execute_result",
          "data": {
            "text/plain": [
              "<function matplotlib.pyplot.show(close=None, block=None)>"
            ]
          },
          "metadata": {},
          "execution_count": 33
        },
        {
          "output_type": "display_data",
          "data": {
            "text/plain": [
              "<Figure size 1500x600 with 1 Axes>"
            ],
            "image/png": "[encoded data removed]"
          },
          "metadata": {}
        }
      ]
    },
    {
      "cell_type": "code",
      "source": [
        "#find top 7 numbers\n",
        "df = pd.DataFrame(rows, columns=fields)\n",
        "\n",
        "df_sorted = df.sort_values(by='percentage', ascending=False)\n",
        "top_7 = df_sorted.head(7)\n",
        "\n",
        "print(top_7)"
      ],
      "metadata": {
        "colab": {
          "base_uri": "https://localhost:8080/"
        },
        "id": "lyWOFCQm3epr",
        "outputId": "b2ef6f11-38c2-4890-f693-328a3d8e2b9d"
      },
      "execution_count": 50,
      "outputs": [
        {
          "output_type": "stream",
          "name": "stdout",
          "text": [
            "    lottery_number  count  percentage\n",
            "40              41    333        2.27\n",
            "7                8    329        2.24\n",
            "1                2    327        2.23\n",
            "42              43    325        2.21\n",
            "29              30    323        2.20\n",
            "10              11    322        2.19\n",
            "0                1    320        2.18\n"
          ]
        }
      ]
    },
    {
      "cell_type": "code",
      "source": [
        "plt.figure(figsize=(15, 6))\n",
        "\n",
        "\n",
        "bars = plt.bar(numbers, percentages)\n",
        "\n",
        "plt.xticks(numbers)\n",
        "plt.ylabel(fields[2])\n",
        "\n",
        "for index in top_7.index:\n",
        "    bars[index].set_color('orange')\n",
        "    plt.text(index, percentages[index], str(numbers[index]))\n",
        "\n",
        "plt.show"
      ],
      "metadata": {
        "colab": {
          "base_uri": "https://localhost:8080/",
          "height": 540
        },
        "id": "--LLcwrb-kd5",
        "outputId": "1ce75bea-054d-4fa4-a38d-cd4915a64eaf"
      },
      "execution_count": 57,
      "outputs": [
        {
          "output_type": "execute_result",
          "data": {
            "text/plain": [
              "<function matplotlib.pyplot.show(close=None, block=None)>"
            ]
          },
          "metadata": {},
          "execution_count": 57
        },
        {
          "output_type": "display_data",
          "data": {
            "text/plain": [
              "<Figure size 1500x600 with 1 Axes>"
            ],
            "image/png": "[encoded data removed]"
          },
          "metadata": {}
        }
      ]
    }
  ]
}