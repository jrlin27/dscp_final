{
  "nbformat": 4,
  "nbformat_minor": 0,
  "metadata": {
    "colab": {
      "provenance": []
    },
    "kernelspec": {
      "name": "python3",
      "display_name": "Python 3"
    },
    "language_info": {
      "name": "python"
    }
  },
  "cells": [
    {
      "cell_type": "code",
      "execution_count": 17,
      "metadata": {
        "id": "UEbanE1feHnQ"
      },
      "outputs": [],
      "source": [
        "#import section\n",
        "import requests\n",
        "from bs4 import BeautifulSoup\n",
        "import pandas as pd\n",
        "import math\n",
        "from collections import Counter\n",
        "import csv"
      ]
    },
    {
      "cell_type": "code",
      "source": [
        "headers = {'User-Agent' : 'Mozilla/5.0 (Macintosh; Intel Mac OS X 20_0_1; en-US; X11; Linux x86_64) AppleWebKit/537.75.14 (KHTML, like Gecko) Version/18.0.0 Safari/1500'}"
      ],
      "metadata": {
        "id": "nqnDR73tgEm0"
      },
      "execution_count": 3,
      "outputs": []
    },
    {
      "cell_type": "code",
      "source": [
        "data_list = []"
      ],
      "metadata": {
        "id": "fva8vDNnBz5s"
      },
      "execution_count": 4,
      "outputs": []
    },
    {
      "cell_type": "code",
      "source": [
        "#link to pages \n",
        "for pages in range(1,71):\n",
        "  r = requests.get('https://www.lotto-8.com/listltobigbbk.asp?indexpage='+str(pages)+'&orderby=new', headers = headers)\n",
        "  r.encoding = 'UTF-8' \n",
        "  soup = BeautifulSoup(r.text,'html.parser')\n",
        "  lo_numbers = soup.select('[style*=\"border-bottom-style: dotted; border-bottom-color: #CCCCCC; font-size:36px\"]')\n",
        "\n",
        "  for td in lo_numbers:\n",
        "    numbers = td.text\n",
        "    data_list.append(numbers)\n",
        "\n",
        "df = pd.DataFrame(data_list, columns=['Numbers'])\n",
        "\n"
      ],
      "metadata": {
        "id": "ICzhgJuDiAdX"
      },
      "execution_count": 5,
      "outputs": []
    },
    {
      "cell_type": "code",
      "source": [
        "all_numbers = []\n",
        "\n",
        "for numbers in df['Numbers']:\n",
        "    for number in numbers.split(','):\n",
        "        all_numbers.append(number.strip())\n",
        "\n",
        "print(all_numbers)"
      ],
      "metadata": {
        "id": "JCSDKUz8eRT-"
      },
      "execution_count": null,
      "outputs": []
    },
    {
      "cell_type": "code",
      "source": [
        "print(len(all_numbers))\n",
        "print(type(all_numbers[0]))\n"
      ],
      "metadata": {
        "id": "EKKWZf3Rmp-y"
      },
      "execution_count": null,
      "outputs": []
    },
    {
      "cell_type": "code",
      "source": [
        "for i in range(len(all_numbers)):\n",
        "  all_numbers[i] = int(all_numbers[i])\n",
        "\n",
        "print(type(all_numbers[0]))\n",
        "print(all_numbers)\n",
        "print(len(all_numbers))"
      ],
      "metadata": {
        "id": "wBawztg4pSaA"
      },
      "execution_count": null,
      "outputs": []
    },
    {
      "cell_type": "code",
      "source": [
        "#\n",
        "for i in range(1,50):\n",
        "  print(i, ':',all_numbers.count(i) , ',', round(all_numbers.count(i)/len(all_numbers)*100,2), '%')\n",
        "  "
      ],
      "metadata": {
        "id": "B1RdqQZAm9gw"
      },
      "execution_count": null,
      "outputs": []
    },
    {
      "cell_type": "code",
      "source": [
        "fields = ['lottery_number','count','percentage']\n",
        "rows = []\n",
        "\n",
        "for i in range(1,50):\n",
        "  count = all_numbers.count(i)\n",
        "  total = len(all_numbers)\n",
        "  percentage = round(count/total*100,2)\n",
        "  rows.append([i, count, percentage])\n",
        "  \n"
      ],
      "metadata": {
        "id": "UrV_A5nsn4oA"
      },
      "execution_count": null,
      "outputs": []
    },
    {
      "cell_type": "code",
      "source": [
        "#find top 7 numbers\n",
        "df = pd.DataFrame(rows, columns=fields)\n",
        "\n",
        "df_sorted = df.sort_values(by='percentage', ascending=False)\n",
        "top_7 = df_sorted.head(7)\n",
        "print(top_7)\n"
      ],
      "metadata": {
        "id": "P8hFapXRfuB_"
      },
      "execution_count": null,
      "outputs": []
    },
    {
      "cell_type": "code",
      "source": [
        "#import matplotlib.pyplot as plt\n"
      ],
      "metadata": {
        "id": "Ee6TguC8iSlm"
      },
      "execution_count": 37,
      "outputs": []
    }
  ]
}